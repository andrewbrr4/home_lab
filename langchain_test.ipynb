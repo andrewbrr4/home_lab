{
 "cells": [
  {
   "cell_type": "code",
   "execution_count": 7,
   "id": "7fb81bf9",
   "metadata": {},
   "outputs": [],
   "source": [
    "from pydantic import BaseModel, Field\n",
    "from enum import Enum\n",
    "import requests\n",
    "from bs4 import BeautifulSoup\n",
    "import random\n",
    "\n",
    "from home_lab.defaults import make_chain, make_agent\n",
    "from langchain.tools import tool\n",
    "from langfuse.callback import CallbackHandler\n",
    "from typing import List"
   ]
  },
  {
   "cell_type": "code",
   "execution_count": 4,
   "id": "bc4cdebc-4d1b-4526-89ba-c6e8b3673e34",
   "metadata": {},
   "outputs": [
    {
     "name": "stdout",
     "output_type": "stream",
     "text": [
      "instrument_type=<InstrumentType.STRING: 'STRING'> common_genres=['Rock', 'Pop', 'Blues', 'Country']\n"
     ]
    }
   ],
   "source": [
    "class InstrumentType(Enum):\n",
    "    WOODWIND = \"WOODWIND\"\n",
    "    BRASS = \"BRASS\"\n",
    "    STRING = \"STRING\"\n",
    "    KEYBOARD = \"KEYBOARD\"\n",
    "\n",
    "class InstrumentInfo(BaseModel):\n",
    "    instrument_type: InstrumentType = Field(..., description=\"what type of instrument it is\")\n",
    "    common_genres: List[str] = Field(..., description=\"some common genres that use this instrument\")\n",
    "\n",
    "describe_instrument_prompt = \"\"\"\n",
    "I am going to give you an instrument, return the type and common genres.\n",
    "\n",
    "{format_instructions}\n",
    "\n",
    "{input}\n",
    "\"\"\"\n",
    "\n",
    "describe_instrument_chain = make_chain(describe_instrument_prompt, InstrumentInfo)\n",
    "callback_handler = CallbackHandler()\n",
    "res = describe_instrument_chain.invoke({\"input\": \"guitar\"}, config={'callbacks': [callback_handler]})\n",
    "print(res)"
   ]
  },
  {
   "cell_type": "code",
   "execution_count": 9,
   "id": "1ddefdf5-bd01-4d9c-ab79-dc9a088d02d7",
   "metadata": {},
   "outputs": [
    {
     "name": "stdout",
     "output_type": "stream",
     "text": [
      "final_article_title='History' final_article_url='https://en.wikipedia.org/wiki/History'\n"
     ]
    }
   ],
   "source": [
    "@tool\n",
    "def navigate(url):\n",
    "    \"\"\"\n",
    "    Navigates to a given url and returns all hyperlinks and text.\n",
    "    Use this to jump from article to article\n",
    "\n",
    "    Args:\n",
    "        url (str): The URL to scrape.\n",
    "\n",
    "    Returns:\n",
    "        list of tuples: Each tuple contains (link_text, href)\n",
    "    \"\"\"\n",
    "    response = requests.get(url)\n",
    "    soup = BeautifulSoup(response.text, 'html.parser')\n",
    "\n",
    "    links = []\n",
    "    for a_tag in soup.find_all('a', href=True):\n",
    "        text = a_tag.get_text(strip=True)\n",
    "        href = a_tag['href']\n",
    "        if href.startswith('/'):\n",
    "            href = 'https://wikipedia.org' + href\n",
    "        links.append((text, href))\n",
    "\n",
    "    return random.sample(links, min(50, len(links)))\n",
    "\n",
    "class FinalArticle(BaseModel):\n",
    "    final_article_title: str = Field(..., description=\"The title of the final article.\")\n",
    "    final_article_url: str = Field(..., description=\"The url of the final article.\")\n",
    "\n",
    "wiki_prompt = \"\"\"\n",
    "I am going to supply you with a random wikipedia article URL.\n",
    "Your job is to get as close to the target topic by clicking similar links.\n",
    "Once you hit the max iterations or are satisfied with how close you are to the topic, return the requested info about the final article.\n",
    "\n",
    "{format_instructions}\n",
    "\n",
    "starting point: {input}\n",
    "\n",
    "target topic: {target}\n",
    "\"\"\"\n",
    "\n",
    "wiki_agent = make_agent([navigate], wiki_prompt, FinalArticle)\n",
    "callback_handler = CallbackHandler()\n",
    "\n",
    "seed_url = \"https://en.wikipedia.org/wiki/Windows_XP\"\n",
    "callback_handler = CallbackHandler()\n",
    "res = wiki_agent.invoke(\n",
    "    {\"input\": seed_url, \"target\": \"history\"}, config={\"callbacks\": [callback_handler]}\n",
    ")\n",
    "print(res)"
   ]
  },
  {
   "cell_type": "code",
   "execution_count": null,
   "id": "59912b6d-94b5-4581-908b-330de944a511",
   "metadata": {},
   "outputs": [],
   "source": []
  }
 ],
 "metadata": {
  "kernelspec": {
   "display_name": "home_lab",
   "language": "python",
   "name": "home_lab"
  },
  "language_info": {
   "codemirror_mode": {
    "name": "ipython",
    "version": 3
   },
   "file_extension": ".py",
   "mimetype": "text/x-python",
   "name": "python",
   "nbconvert_exporter": "python",
   "pygments_lexer": "ipython3",
   "version": "3.11.11"
  }
 },
 "nbformat": 4,
 "nbformat_minor": 5
}
