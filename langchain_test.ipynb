{
 "cells": [
  {
   "cell_type": "code",
   "execution_count": null,
   "id": "7fb81bf9",
   "metadata": {},
   "outputs": [],
   "source": [
    "from langchain_core.runnables import Runnable, RunnableLambda\n",
    "from langchain_core.prompts import PromptTemplate, ChatPromptTemplate\n",
    "from langchain_core.tools import tool\n",
    "from langchain_core.output_parsers import PydanticOutputParser\n",
    "from langchain.output_parsers.enum import EnumOutputParser\n",
    "from langchain_openai import ChatOpenAI\n",
    "from langfuse.decorators import observe\n",
    "from pydantic import BaseModel, Field\n",
    "from enum import Enum"
   ]
  },
  {
   "cell_type": "code",
   "execution_count": null,
   "id": "a812fbf7",
   "metadata": {},
   "outputs": [],
   "source": [
    "my_string_prompt = PromptTemplate.from_template(\"\"\"\n",
    "Tell me a joke about {topic}\n",
    "\"\"\")\n",
    "\n",
    "my_chat_prompt = ChatPromptTemplate.from_messages([\n",
    "    (\"system\", \"you are a helpful assistant\"),\n",
    "    (\"human\", \"tell me a joke about {topic}\")\n",
    "])"
   ]
  },
  {
   "cell_type": "code",
   "execution_count": null,
   "id": "282daa34",
   "metadata": {},
   "outputs": [],
   "source": [
    "model = ChatOpenAI()"
   ]
  },
  {
   "cell_type": "code",
   "execution_count": null,
   "id": "af9dc538",
   "metadata": {},
   "outputs": [],
   "source": [
    "chain = my_string_prompt | model"
   ]
  },
  {
   "cell_type": "code",
   "execution_count": null,
   "id": "60ea8973",
   "metadata": {},
   "outputs": [],
   "source": [
    "chain.invoke(input={\n",
    "    \"topic\": \"cats\"\n",
    "})"
   ]
  },
  {
   "cell_type": "code",
   "execution_count": null,
   "id": "96c178bb",
   "metadata": {},
   "outputs": [],
   "source": []
  }
 ],
 "metadata": {
  "kernelspec": {
   "display_name": "home_lab",
   "language": "python",
   "name": "home_lab"
  },
  "language_info": {
   "codemirror_mode": {
    "name": "ipython",
    "version": 3
   },
   "file_extension": ".py",
   "mimetype": "text/x-python",
   "name": "python",
   "nbconvert_exporter": "python",
   "pygments_lexer": "ipython3",
   "version": "3.11.11"
  }
 },
 "nbformat": 4,
 "nbformat_minor": 5
}
